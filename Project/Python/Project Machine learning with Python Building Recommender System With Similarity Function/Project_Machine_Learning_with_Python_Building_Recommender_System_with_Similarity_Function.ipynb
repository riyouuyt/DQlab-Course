{
  "nbformat": 4,
  "nbformat_minor": 0,
  "metadata": {
    "colab": {
      "provenance": []
    },
    "kernelspec": {
      "name": "python3",
      "display_name": "Python 3"
    },
    "language_info": {
      "name": "python"
    }
  },
  "cells": [
    {
      "cell_type": "markdown",
      "source": [
        "#Import Library and file unloading\n"
      ],
      "metadata": {
        "id": "GWuOy_p_orcH"
      }
    },
    {
      "cell_type": "code",
      "execution_count": 1,
      "metadata": {
        "id": "KGD-WgUYoZnE"
      },
      "outputs": [],
      "source": [
        "#import library yang dibutuhkan\n",
        "import pandas as pd\n",
        "import numpy as np\n",
        "\n",
        "#lakukan pembacaan dataset\n",
        "movie_rating_df = pd.read_csv('https://dqlab-dataset.s3-ap-southeast-1.amazonaws.com/movie_rating_df.csv') #untuk menyimpan movie_rating_df.csv"
      ]
    },
    {
      "cell_type": "code",
      "source": [
        "movie_rating_df.head()"
      ],
      "metadata": {
        "colab": {
          "base_uri": "https://localhost:8080/",
          "height": 206
        },
        "id": "cLgdT-X4oyfL",
        "outputId": "92d0c8a8-3e14-47bd-d7cd-ca982c066def"
      },
      "execution_count": 2,
      "outputs": [
        {
          "output_type": "execute_result",
          "data": {
            "text/plain": [
              "      tconst titleType            primaryTitle           originalTitle  \\\n",
              "0  tt0000001     short              Carmencita              Carmencita   \n",
              "1  tt0000002     short  Le clown et ses chiens  Le clown et ses chiens   \n",
              "2  tt0000003     short          Pauvre Pierrot          Pauvre Pierrot   \n",
              "3  tt0000004     short             Un bon bock             Un bon bock   \n",
              "4  tt0000005     short        Blacksmith Scene        Blacksmith Scene   \n",
              "\n",
              "   isAdult  startYear  endYear  runtimeMinutes                    genres  \\\n",
              "0        0     1894.0      NaN             1.0         Documentary,Short   \n",
              "1        0     1892.0      NaN             5.0           Animation,Short   \n",
              "2        0     1892.0      NaN             4.0  Animation,Comedy,Romance   \n",
              "3        0     1892.0      NaN            12.0           Animation,Short   \n",
              "4        0     1893.0      NaN             1.0              Comedy,Short   \n",
              "\n",
              "   averageRating  numVotes  \n",
              "0            5.6      1608  \n",
              "1            6.0       197  \n",
              "2            6.5      1285  \n",
              "3            6.1       121  \n",
              "4            6.1      2050  "
            ],
            "text/html": [
              "\n",
              "  <div id=\"df-fd5b4a92-4300-4ca3-a80f-4584c327f91b\">\n",
              "    <div class=\"colab-df-container\">\n",
              "      <div>\n",
              "<style scoped>\n",
              "    .dataframe tbody tr th:only-of-type {\n",
              "        vertical-align: middle;\n",
              "    }\n",
              "\n",
              "    .dataframe tbody tr th {\n",
              "        vertical-align: top;\n",
              "    }\n",
              "\n",
              "    .dataframe thead th {\n",
              "        text-align: right;\n",
              "    }\n",
              "</style>\n",
              "<table border=\"1\" class=\"dataframe\">\n",
              "  <thead>\n",
              "    <tr style=\"text-align: right;\">\n",
              "      <th></th>\n",
              "      <th>tconst</th>\n",
              "      <th>titleType</th>\n",
              "      <th>primaryTitle</th>\n",
              "      <th>originalTitle</th>\n",
              "      <th>isAdult</th>\n",
              "      <th>startYear</th>\n",
              "      <th>endYear</th>\n",
              "      <th>runtimeMinutes</th>\n",
              "      <th>genres</th>\n",
              "      <th>averageRating</th>\n",
              "      <th>numVotes</th>\n",
              "    </tr>\n",
              "  </thead>\n",
              "  <tbody>\n",
              "    <tr>\n",
              "      <th>0</th>\n",
              "      <td>tt0000001</td>\n",
              "      <td>short</td>\n",
              "      <td>Carmencita</td>\n",
              "      <td>Carmencita</td>\n",
              "      <td>0</td>\n",
              "      <td>1894.0</td>\n",
              "      <td>NaN</td>\n",
              "      <td>1.0</td>\n",
              "      <td>Documentary,Short</td>\n",
              "      <td>5.6</td>\n",
              "      <td>1608</td>\n",
              "    </tr>\n",
              "    <tr>\n",
              "      <th>1</th>\n",
              "      <td>tt0000002</td>\n",
              "      <td>short</td>\n",
              "      <td>Le clown et ses chiens</td>\n",
              "      <td>Le clown et ses chiens</td>\n",
              "      <td>0</td>\n",
              "      <td>1892.0</td>\n",
              "      <td>NaN</td>\n",
              "      <td>5.0</td>\n",
              "      <td>Animation,Short</td>\n",
              "      <td>6.0</td>\n",
              "      <td>197</td>\n",
              "    </tr>\n",
              "    <tr>\n",
              "      <th>2</th>\n",
              "      <td>tt0000003</td>\n",
              "      <td>short</td>\n",
              "      <td>Pauvre Pierrot</td>\n",
              "      <td>Pauvre Pierrot</td>\n",
              "      <td>0</td>\n",
              "      <td>1892.0</td>\n",
              "      <td>NaN</td>\n",
              "      <td>4.0</td>\n",
              "      <td>Animation,Comedy,Romance</td>\n",
              "      <td>6.5</td>\n",
              "      <td>1285</td>\n",
              "    </tr>\n",
              "    <tr>\n",
              "      <th>3</th>\n",
              "      <td>tt0000004</td>\n",
              "      <td>short</td>\n",
              "      <td>Un bon bock</td>\n",
              "      <td>Un bon bock</td>\n",
              "      <td>0</td>\n",
              "      <td>1892.0</td>\n",
              "      <td>NaN</td>\n",
              "      <td>12.0</td>\n",
              "      <td>Animation,Short</td>\n",
              "      <td>6.1</td>\n",
              "      <td>121</td>\n",
              "    </tr>\n",
              "    <tr>\n",
              "      <th>4</th>\n",
              "      <td>tt0000005</td>\n",
              "      <td>short</td>\n",
              "      <td>Blacksmith Scene</td>\n",
              "      <td>Blacksmith Scene</td>\n",
              "      <td>0</td>\n",
              "      <td>1893.0</td>\n",
              "      <td>NaN</td>\n",
              "      <td>1.0</td>\n",
              "      <td>Comedy,Short</td>\n",
              "      <td>6.1</td>\n",
              "      <td>2050</td>\n",
              "    </tr>\n",
              "  </tbody>\n",
              "</table>\n",
              "</div>\n",
              "      <button class=\"colab-df-convert\" onclick=\"convertToInteractive('df-fd5b4a92-4300-4ca3-a80f-4584c327f91b')\"\n",
              "              title=\"Convert this dataframe to an interactive table.\"\n",
              "              style=\"display:none;\">\n",
              "        \n",
              "  <svg xmlns=\"http://www.w3.org/2000/svg\" height=\"24px\"viewBox=\"0 0 24 24\"\n",
              "       width=\"24px\">\n",
              "    <path d=\"M0 0h24v24H0V0z\" fill=\"none\"/>\n",
              "    <path d=\"M18.56 5.44l.94 2.06.94-2.06 2.06-.94-2.06-.94-.94-2.06-.94 2.06-2.06.94zm-11 1L8.5 8.5l.94-2.06 2.06-.94-2.06-.94L8.5 2.5l-.94 2.06-2.06.94zm10 10l.94 2.06.94-2.06 2.06-.94-2.06-.94-.94-2.06-.94 2.06-2.06.94z\"/><path d=\"M17.41 7.96l-1.37-1.37c-.4-.4-.92-.59-1.43-.59-.52 0-1.04.2-1.43.59L10.3 9.45l-7.72 7.72c-.78.78-.78 2.05 0 2.83L4 21.41c.39.39.9.59 1.41.59.51 0 1.02-.2 1.41-.59l7.78-7.78 2.81-2.81c.8-.78.8-2.07 0-2.86zM5.41 20L4 18.59l7.72-7.72 1.47 1.35L5.41 20z\"/>\n",
              "  </svg>\n",
              "      </button>\n",
              "      \n",
              "  <style>\n",
              "    .colab-df-container {\n",
              "      display:flex;\n",
              "      flex-wrap:wrap;\n",
              "      gap: 12px;\n",
              "    }\n",
              "\n",
              "    .colab-df-convert {\n",
              "      background-color: #E8F0FE;\n",
              "      border: none;\n",
              "      border-radius: 50%;\n",
              "      cursor: pointer;\n",
              "      display: none;\n",
              "      fill: #1967D2;\n",
              "      height: 32px;\n",
              "      padding: 0 0 0 0;\n",
              "      width: 32px;\n",
              "    }\n",
              "\n",
              "    .colab-df-convert:hover {\n",
              "      background-color: #E2EBFA;\n",
              "      box-shadow: 0px 1px 2px rgba(60, 64, 67, 0.3), 0px 1px 3px 1px rgba(60, 64, 67, 0.15);\n",
              "      fill: #174EA6;\n",
              "    }\n",
              "\n",
              "    [theme=dark] .colab-df-convert {\n",
              "      background-color: #3B4455;\n",
              "      fill: #D2E3FC;\n",
              "    }\n",
              "\n",
              "    [theme=dark] .colab-df-convert:hover {\n",
              "      background-color: #434B5C;\n",
              "      box-shadow: 0px 1px 3px 1px rgba(0, 0, 0, 0.15);\n",
              "      filter: drop-shadow(0px 1px 2px rgba(0, 0, 0, 0.3));\n",
              "      fill: #FFFFFF;\n",
              "    }\n",
              "  </style>\n",
              "\n",
              "      <script>\n",
              "        const buttonEl =\n",
              "          document.querySelector('#df-fd5b4a92-4300-4ca3-a80f-4584c327f91b button.colab-df-convert');\n",
              "        buttonEl.style.display =\n",
              "          google.colab.kernel.accessAllowed ? 'block' : 'none';\n",
              "\n",
              "        async function convertToInteractive(key) {\n",
              "          const element = document.querySelector('#df-fd5b4a92-4300-4ca3-a80f-4584c327f91b');\n",
              "          const dataTable =\n",
              "            await google.colab.kernel.invokeFunction('convertToInteractive',\n",
              "                                                     [key], {});\n",
              "          if (!dataTable) return;\n",
              "\n",
              "          const docLinkHtml = 'Like what you see? Visit the ' +\n",
              "            '<a target=\"_blank\" href=https://colab.research.google.com/notebooks/data_table.ipynb>data table notebook</a>'\n",
              "            + ' to learn more about interactive tables.';\n",
              "          element.innerHTML = '';\n",
              "          dataTable['output_type'] = 'display_data';\n",
              "          await google.colab.output.renderOutput(dataTable, element);\n",
              "          const docLink = document.createElement('div');\n",
              "          docLink.innerHTML = docLinkHtml;\n",
              "          element.appendChild(docLink);\n",
              "        }\n",
              "      </script>\n",
              "    </div>\n",
              "  </div>\n",
              "  "
            ]
          },
          "metadata": {},
          "execution_count": 2
        }
      ]
    },
    {
      "cell_type": "markdown",
      "source": [
        "#Menampilkan 5 data teratas dan tipe data"
      ],
      "metadata": {
        "id": "BmvkjEM6o4Dh"
      }
    },
    {
      "cell_type": "code",
      "source": [
        "#tampilkan 5 baris teratas dari movive_rating_df\n",
        "print(movie_rating_df.head())\n",
        "\n",
        "#tampilkan info mengenai tipe data dari tiap kolom\n",
        "print(movie_rating_df.info())"
      ],
      "metadata": {
        "colab": {
          "base_uri": "https://localhost:8080/"
        },
        "id": "c0NWDCzxo3jr",
        "outputId": "3734f16e-724f-4f4d-d530-c66fffc8d265"
      },
      "execution_count": 3,
      "outputs": [
        {
          "output_type": "stream",
          "name": "stdout",
          "text": [
            "      tconst titleType            primaryTitle           originalTitle  \\\n",
            "0  tt0000001     short              Carmencita              Carmencita   \n",
            "1  tt0000002     short  Le clown et ses chiens  Le clown et ses chiens   \n",
            "2  tt0000003     short          Pauvre Pierrot          Pauvre Pierrot   \n",
            "3  tt0000004     short             Un bon bock             Un bon bock   \n",
            "4  tt0000005     short        Blacksmith Scene        Blacksmith Scene   \n",
            "\n",
            "   isAdult  startYear  endYear  runtimeMinutes                    genres  \\\n",
            "0        0     1894.0      NaN             1.0         Documentary,Short   \n",
            "1        0     1892.0      NaN             5.0           Animation,Short   \n",
            "2        0     1892.0      NaN             4.0  Animation,Comedy,Romance   \n",
            "3        0     1892.0      NaN            12.0           Animation,Short   \n",
            "4        0     1893.0      NaN             1.0              Comedy,Short   \n",
            "\n",
            "   averageRating  numVotes  \n",
            "0            5.6      1608  \n",
            "1            6.0       197  \n",
            "2            6.5      1285  \n",
            "3            6.1       121  \n",
            "4            6.1      2050  \n",
            "<class 'pandas.core.frame.DataFrame'>\n",
            "RangeIndex: 751614 entries, 0 to 751613\n",
            "Data columns (total 11 columns):\n",
            " #   Column          Non-Null Count   Dtype  \n",
            "---  ------          --------------   -----  \n",
            " 0   tconst          751614 non-null  object \n",
            " 1   titleType       751614 non-null  object \n",
            " 2   primaryTitle    751614 non-null  object \n",
            " 3   originalTitle   751614 non-null  object \n",
            " 4   isAdult         751614 non-null  int64  \n",
            " 5   startYear       751614 non-null  float64\n",
            " 6   endYear         16072 non-null   float64\n",
            " 7   runtimeMinutes  751614 non-null  float64\n",
            " 8   genres          486766 non-null  object \n",
            " 9   averageRating   751614 non-null  float64\n",
            " 10  numVotes        751614 non-null  int64  \n",
            "dtypes: float64(4), int64(2), object(5)\n",
            "memory usage: 63.1+ MB\n",
            "None\n"
          ]
        }
      ]
    },
    {
      "cell_type": "markdown",
      "source": [
        "#Add Actors Dataframe"
      ],
      "metadata": {
        "id": "kbilFPDjpDB5"
      }
    },
    {
      "cell_type": "code",
      "source": [
        "#Simpan actor_name.csv pada variable name_df \n",
        "name_df = pd.read_csv('https://dqlab-dataset.s3-ap-southeast-1.amazonaws.com/actor_name.csv')\n",
        "\n",
        "#Tampilkan 5 baris teratas dari name_df\n",
        "print(name_df.head())\n",
        "\n",
        "#Tampilkan informasi mengenai tipe data dari tiap kolom pada name_df\n",
        "print(name_df.info())"
      ],
      "metadata": {
        "colab": {
          "base_uri": "https://localhost:8080/"
        },
        "id": "9Og8YdQzpBDW",
        "outputId": "57907c16-01fe-4a50-f8a7-7850a3d2c368"
      },
      "execution_count": 4,
      "outputs": [
        {
          "output_type": "stream",
          "name": "stdout",
          "text": [
            "       nconst          primaryName birthYear deathYear  \\\n",
            "0   nm1774132    Nathan McLaughlin      1973        \\N   \n",
            "1  nm10683464        Bridge Andrew        \\N        \\N   \n",
            "2   nm1021485    Brandon Fransvaag        \\N        \\N   \n",
            "3   nm6940929   Erwin van der Lely        \\N        \\N   \n",
            "4   nm5764974  Svetlana Shypitsyna        \\N        \\N   \n",
            "\n",
            "                    primaryProfession                           knownForTitles  \n",
            "0  special_effects,make_up_department  tt0417686,tt1713976,tt1891860,tt0454839  \n",
            "1                               actor                                tt7718088  \n",
            "2                       miscellaneous                                tt0168790  \n",
            "3                       miscellaneous                                tt4232168  \n",
            "4                             actress                                tt3014168  \n",
            "<class 'pandas.core.frame.DataFrame'>\n",
            "RangeIndex: 1000 entries, 0 to 999\n",
            "Data columns (total 6 columns):\n",
            " #   Column             Non-Null Count  Dtype \n",
            "---  ------             --------------  ----- \n",
            " 0   nconst             1000 non-null   object\n",
            " 1   primaryName        1000 non-null   object\n",
            " 2   birthYear          1000 non-null   object\n",
            " 3   deathYear          1000 non-null   object\n",
            " 4   primaryProfession  891 non-null    object\n",
            " 5   knownForTitles     1000 non-null   object\n",
            "dtypes: object(6)\n",
            "memory usage: 47.0+ KB\n",
            "None\n"
          ]
        }
      ]
    },
    {
      "cell_type": "markdown",
      "source": [
        "#Add Directors and Writers Dataframe"
      ],
      "metadata": {
        "id": "SY4Rm7m6pL-_"
      }
    },
    {
      "cell_type": "code",
      "source": [
        "#Menyimpan dataset pada variabel director_writers\n",
        "director_writers = pd.read_csv('https://dqlab-dataset.s3-ap-southeast-1.amazonaws.com/directors_writers.csv')\n",
        "\n",
        "#Manampilkan 5 baris teratas\n",
        "print(director_writers.head())\n",
        "\n",
        "#Menampilkan informasi tipe data\n",
        "print(director_writers.info())"
      ],
      "metadata": {
        "colab": {
          "base_uri": "https://localhost:8080/"
        },
        "id": "wpmW-FyvpJsH",
        "outputId": "592b1843-94f5-45b4-89a5-4ee33cb7b3ba"
      },
      "execution_count": 5,
      "outputs": [
        {
          "output_type": "stream",
          "name": "stdout",
          "text": [
            "      tconst                   director_name  \\\n",
            "0  tt0011414                  David Kirkland   \n",
            "1  tt0011890               Roy William Neill   \n",
            "2  tt0014341  Buster Keaton,John G. Blystone   \n",
            "3  tt0018054                Cecil B. DeMille   \n",
            "4  tt0024151                     James Cruze   \n",
            "\n",
            "                                       writer_name  \n",
            "0                          John Emerson,Anita Loos  \n",
            "1     Arthur F. Goodrich,Burns Mantle,Mary Murillo  \n",
            "2  Jean C. Havez,Clyde Bruckman,Joseph A. Mitchell  \n",
            "3                                Jeanie Macpherson  \n",
            "4                 Max Miller,Wells Root,Jack Jevne  \n",
            "<class 'pandas.core.frame.DataFrame'>\n",
            "RangeIndex: 986 entries, 0 to 985\n",
            "Data columns (total 3 columns):\n",
            " #   Column         Non-Null Count  Dtype \n",
            "---  ------         --------------  ----- \n",
            " 0   tconst         986 non-null    object\n",
            " 1   director_name  986 non-null    object\n",
            " 2   writer_name    986 non-null    object\n",
            "dtypes: object(3)\n",
            "memory usage: 23.2+ KB\n",
            "None\n"
          ]
        }
      ]
    },
    {
      "cell_type": "markdown",
      "source": [
        "#Convert into List"
      ],
      "metadata": {
        "id": "pnhWMCUWpV4T"
      }
    },
    {
      "cell_type": "code",
      "source": [
        "import pandas as pd\n",
        "director_writers = pd.read_csv('https://dqlab-dataset.s3-ap-southeast-1.amazonaws.com/directors_writers.csv')\n",
        "\n",
        "#Mengubah director_name menjadi list\n",
        "director_writers['director_name'] = director_writers['director_name'].apply(lambda row: row.split(','))\n",
        "director_writers['writer_name'] = director_writers['writer_name'].apply(lambda row: row.split(','))\n",
        "\n",
        "#Tampilkan 5 data teratas\n",
        "print(director_writers.head())"
      ],
      "metadata": {
        "colab": {
          "base_uri": "https://localhost:8080/"
        },
        "id": "AUkTuCHjpTqq",
        "outputId": "6a75077d-2eb3-4b49-982a-fb4dc4da0a14"
      },
      "execution_count": 6,
      "outputs": [
        {
          "output_type": "stream",
          "name": "stdout",
          "text": [
            "      tconst                      director_name  \\\n",
            "0  tt0011414                   [David Kirkland]   \n",
            "1  tt0011890                [Roy William Neill]   \n",
            "2  tt0014341  [Buster Keaton, John G. Blystone]   \n",
            "3  tt0018054                 [Cecil B. DeMille]   \n",
            "4  tt0024151                      [James Cruze]   \n",
            "\n",
            "                                         writer_name  \n",
            "0                         [John Emerson, Anita Loos]  \n",
            "1   [Arthur F. Goodrich, Burns Mantle, Mary Murillo]  \n",
            "2  [Jean C. Havez, Clyde Bruckman, Joseph A. Mitc...  \n",
            "3                                [Jeanie Macpherson]  \n",
            "4               [Max Miller, Wells Root, Jack Jevne]  \n"
          ]
        }
      ]
    },
    {
      "cell_type": "markdown",
      "source": [
        "#Update name_df"
      ],
      "metadata": {
        "id": "HH3Y5BVfpfNj"
      }
    },
    {
      "cell_type": "code",
      "source": [
        "name_df = pd.read_csv('https://dqlab-dataset.s3-ap-southeast-1.amazonaws.com/actor_name.csv')\n",
        "#Kita hanya akan membutuhkan kolom nconst, primaryName, dan knownForTitles\n",
        "name_df = name_df[['nconst','primaryName','knownForTitles']]\n",
        "\n",
        "#Tampilkan 5 baris teratas dari name_df\n",
        "print(name_df.head())"
      ],
      "metadata": {
        "colab": {
          "base_uri": "https://localhost:8080/"
        },
        "id": "_ee_H0ogpdPD",
        "outputId": "7fbae43c-0337-48f2-bf1b-2a1c1ae206b5"
      },
      "execution_count": 7,
      "outputs": [
        {
          "output_type": "stream",
          "name": "stdout",
          "text": [
            "       nconst          primaryName                           knownForTitles\n",
            "0   nm1774132    Nathan McLaughlin  tt0417686,tt1713976,tt1891860,tt0454839\n",
            "1  nm10683464        Bridge Andrew                                tt7718088\n",
            "2   nm1021485    Brandon Fransvaag                                tt0168790\n",
            "3   nm6940929   Erwin van der Lely                                tt4232168\n",
            "4   nm5764974  Svetlana Shypitsyna                                tt3014168\n"
          ]
        }
      ]
    },
    {
      "cell_type": "markdown",
      "source": [
        "#Movies per Actor"
      ],
      "metadata": {
        "id": "jpYWZZwMpmfd"
      }
    },
    {
      "cell_type": "code",
      "source": [
        "#Melakukan pengecekan variasi\n",
        "print(name_df['knownForTitles'].apply(lambda x: len(x.split(','))).unique())\n",
        "\n",
        "#Mengubah knownForTitles menjadi list of list\n",
        "name_df['knownForTitles'] = name_df['knownForTitles'].apply(lambda x: x.split(','))\n",
        "\n",
        "#Mencetak 5 baris teratas\n",
        "print(name_df.head())"
      ],
      "metadata": {
        "colab": {
          "base_uri": "https://localhost:8080/"
        },
        "id": "U8mbHyn0pmH5",
        "outputId": "4402bb8a-1832-41d8-ed7c-598766c58b08"
      },
      "execution_count": 8,
      "outputs": [
        {
          "output_type": "stream",
          "name": "stdout",
          "text": [
            "[4 1 2 3]\n",
            "       nconst          primaryName  \\\n",
            "0   nm1774132    Nathan McLaughlin   \n",
            "1  nm10683464        Bridge Andrew   \n",
            "2   nm1021485    Brandon Fransvaag   \n",
            "3   nm6940929   Erwin van der Lely   \n",
            "4   nm5764974  Svetlana Shypitsyna   \n",
            "\n",
            "                                 knownForTitles  \n",
            "0  [tt0417686, tt1713976, tt1891860, tt0454839]  \n",
            "1                                   [tt7718088]  \n",
            "2                                   [tt0168790]  \n",
            "3                                   [tt4232168]  \n",
            "4                                   [tt3014168]  \n"
          ]
        }
      ]
    },
    {
      "cell_type": "markdown",
      "source": [
        "\n",
        "Korespondensi 1 - 1"
      ],
      "metadata": {
        "id": "afuaEOKCplv-"
      }
    },
    {
      "cell_type": "code",
      "source": [
        "import numpy as np\n",
        "\n",
        "#menyiapkan bucket untuk dataframe\n",
        "df_uni = []\n",
        "\n",
        "for x in ['knownForTitles']:\n",
        "\t#mengulang index dari tiap baris sampai tiap elemen dari knownForTitles\n",
        "\tidx = name_df.index.repeat(name_df['knownForTitles'].str.len())\n",
        "\n",
        "\t#memecah values dari list di setiap baris dan menggabungkan nya dengan rows lain menjadi dataframe\n",
        "\tdf1 = pd.DataFrame({\n",
        "\t\tx: np.concatenate(name_df[x].values)\n",
        "\t})\n",
        "\n",
        "\t#mengganti index dataframe tersebut dengan idx yang sudah kita define di awal\n",
        "\tdf1.index = idx\n",
        "\n",
        "\t#untuk setiap dataframe yang terbentuk, kita menambahkan ke dataframe bucket\n",
        "\tdf_uni.append(df1)\n",
        "\n",
        "#menggabungkan semua dataframe menjadi satu\n",
        "df_concat = pd.concat(df_uni, axis=1)\n",
        "\n",
        "#join dengan value dari dataframe yang awal\n",
        "unnested_df = df_concat.join(name_df.drop(['knownForTitles'], 1), how='left')\n",
        "\n",
        "#select kolom sesuai dengan dataframe awal\n",
        "unnested_df = unnested_df[name_df.columns.tolist()]\n",
        "print(unnested_df)"
      ],
      "metadata": {
        "colab": {
          "base_uri": "https://localhost:8080/"
        },
        "id": "bLf-uTvMpla1",
        "outputId": "e2fcaa8f-7f1a-455a-cfeb-df43e1d73237"
      },
      "execution_count": 9,
      "outputs": [
        {
          "output_type": "stream",
          "name": "stdout",
          "text": [
            "         nconst        primaryName knownForTitles\n",
            "0     nm1774132  Nathan McLaughlin      tt0417686\n",
            "0     nm1774132  Nathan McLaughlin      tt1713976\n",
            "0     nm1774132  Nathan McLaughlin      tt1891860\n",
            "0     nm1774132  Nathan McLaughlin      tt0454839\n",
            "1    nm10683464      Bridge Andrew      tt7718088\n",
            "..          ...                ...            ...\n",
            "998   nm5245804      Eliza Jenkins      tt1464058\n",
            "999   nm0948460         Greg Yolen      tt0436869\n",
            "999   nm0948460         Greg Yolen      tt0476663\n",
            "999   nm0948460         Greg Yolen      tt0109723\n",
            "999   nm0948460         Greg Yolen      tt0364484\n",
            "\n",
            "[1918 rows x 3 columns]\n"
          ]
        },
        {
          "output_type": "stream",
          "name": "stderr",
          "text": [
            "<ipython-input-9-2dfa9d879625>:25: FutureWarning: In a future version of pandas all arguments of DataFrame.drop except for the argument 'labels' will be keyword-only.\n",
            "  unnested_df = df_concat.join(name_df.drop(['knownForTitles'], 1), how='left')\n"
          ]
        }
      ]
    },
    {
      "cell_type": "markdown",
      "source": [
        "#Mengelompokkan primaryName menjadi list group by knownForTitles"
      ],
      "metadata": {
        "id": "OWfLviVKpk8W"
      }
    },
    {
      "cell_type": "code",
      "source": [
        "unnested_drop = unnested_df.drop(['nconst'], axis=1)\n",
        "\n",
        "#menyiapkan bucket untuk dataframe\n",
        "df_uni = []\n",
        "\n",
        "for col in ['primaryName']:\n",
        "    #agregasi kolom PrimaryName sesuai group_col yang sudah di define di atas\n",
        "    dfi = unnested_drop.groupby(['knownForTitles'])[col].apply(list)\n",
        "    #Lakukan append\n",
        "    df_uni.append(dfi)\n",
        "df_grouped = pd.concat(df_uni, axis=1).reset_index()\n",
        "df_grouped.columns = ['knownForTitles','cast_name']\n",
        "print(df_grouped)"
      ],
      "metadata": {
        "colab": {
          "base_uri": "https://localhost:8080/"
        },
        "id": "CaQuYLvzpkQo",
        "outputId": "02257b28-bd41-42a4-ea18-0f73341ffd7d"
      },
      "execution_count": 10,
      "outputs": [
        {
          "output_type": "stream",
          "name": "stdout",
          "text": [
            "     knownForTitles           cast_name\n",
            "0         tt0008125    [Charles Harley]\n",
            "1         tt0009706    [Charles Harley]\n",
            "2         tt0010304  [Natalie Talmadge]\n",
            "3         tt0011414  [Natalie Talmadge]\n",
            "4         tt0011890  [Natalie Talmadge]\n",
            "...             ...                 ...\n",
            "1893      tt9610496  [Stefano Baffetti]\n",
            "1894      tt9714030        [Kevin Kain]\n",
            "1895      tt9741820   [Caroline Plyler]\n",
            "1896      tt9759814     [Ethan Francis]\n",
            "1897      tt9856236     [Nuala Maguire]\n",
            "\n",
            "[1898 rows x 2 columns]\n"
          ]
        }
      ]
    },
    {
      "cell_type": "markdown",
      "source": [
        "#Join table"
      ],
      "metadata": {
        "id": "XbMbf9oVp5uQ"
      }
    },
    {
      "cell_type": "code",
      "source": [
        "movie_rating_df = pd.read_csv('https://dqlab-dataset.s3-ap-southeast-1.amazonaws.com/movie_rating_df.csv')\n",
        "\n",
        "#join antara movie table dan cast table \n",
        "base_df = pd.merge(df_grouped, movie_rating_df, left_on='knownForTitles', right_on='tconst', how='inner')\n",
        "\n",
        "#join antara base_df dengan director_writer table\n",
        "base_df = pd.merge(base_df, director_writers, left_on='tconst', right_on='tconst', how='left')\n",
        "print(base_df.head())"
      ],
      "metadata": {
        "colab": {
          "base_uri": "https://localhost:8080/"
        },
        "id": "dGjoFhYJqBYp",
        "outputId": "2b34e561-c45f-4f9e-d8c0-52dc81e96905"
      },
      "execution_count": 11,
      "outputs": [
        {
          "output_type": "stream",
          "name": "stdout",
          "text": [
            "  knownForTitles           cast_name     tconst titleType  \\\n",
            "0      tt0011414  [Natalie Talmadge]  tt0011414     movie   \n",
            "1      tt0011890  [Natalie Talmadge]  tt0011890     movie   \n",
            "2      tt0014341  [Natalie Talmadge]  tt0014341     movie   \n",
            "3      tt0018054     [Reeka Roberts]  tt0018054     movie   \n",
            "4      tt0024151     [James Hackett]  tt0024151     movie   \n",
            "\n",
            "             primaryTitle           originalTitle  isAdult  startYear  \\\n",
            "0         The Love Expert         The Love Expert        0     1920.0   \n",
            "1               Yes or No               Yes or No        0     1920.0   \n",
            "2         Our Hospitality         Our Hospitality        0     1923.0   \n",
            "3       The King of Kings       The King of Kings        0     1927.0   \n",
            "4  I Cover the Waterfront  I Cover the Waterfront        0     1933.0   \n",
            "\n",
            "   endYear  runtimeMinutes                   genres  averageRating  numVotes  \\\n",
            "0      NaN            60.0           Comedy,Romance            4.9       136   \n",
            "1      NaN            72.0                      NaN            6.3         7   \n",
            "2      NaN            65.0  Comedy,Romance,Thriller            7.8      9621   \n",
            "3      NaN           155.0  Biography,Drama,History            7.3      1826   \n",
            "4      NaN            80.0            Drama,Romance            6.3       455   \n",
            "\n",
            "                       director_name  \\\n",
            "0                   [David Kirkland]   \n",
            "1                [Roy William Neill]   \n",
            "2  [Buster Keaton, John G. Blystone]   \n",
            "3                 [Cecil B. DeMille]   \n",
            "4                      [James Cruze]   \n",
            "\n",
            "                                         writer_name  \n",
            "0                         [John Emerson, Anita Loos]  \n",
            "1   [Arthur F. Goodrich, Burns Mantle, Mary Murillo]  \n",
            "2  [Jean C. Havez, Clyde Bruckman, Joseph A. Mitc...  \n",
            "3                                [Jeanie Macpherson]  \n",
            "4               [Max Miller, Wells Root, Jack Jevne]  \n"
          ]
        }
      ]
    },
    {
      "cell_type": "markdown",
      "source": [
        "#Cleaning data"
      ],
      "metadata": {
        "id": "wm_Brc_Vp84e"
      }
    },
    {
      "cell_type": "code",
      "source": [
        "#Melakukan drop terhadap kolom knownForTitles\n",
        "base_drop = base_df.drop(['knownForTitles'], axis=1)\n",
        "print(base_drop.info())\n",
        "\n",
        "#Mengganti nilai NULL pada kolom genres dengan 'Unknown'\n",
        "base_drop['genres'] = base_drop['genres'].fillna('Unknown')\n",
        "\n",
        "#Melakukan perhitungan jumlah nilai NULL pada tiap kolom\n",
        "print(base_drop.isnull().sum())\n",
        "\n",
        "#Mengganti nilai NULL pada kolom dorector_name dan writer_name dengan 'Unknown'\n",
        "base_drop[['director_name','writer_name']] = base_drop[['director_name','writer_name']].fillna('unknown')\n",
        "\n",
        "#karena value kolom genres terdapat multiple values, jadi kita akan bungkus menjadi list of list\n",
        "base_drop['genres'] = base_drop['genres'].apply(lambda x: x.split(','))"
      ],
      "metadata": {
        "colab": {
          "base_uri": "https://localhost:8080/"
        },
        "id": "e1gJVQ-vp6cc",
        "outputId": "67e8eb49-87ea-435d-af6f-51e0a34f9f95"
      },
      "execution_count": 13,
      "outputs": [
        {
          "output_type": "stream",
          "name": "stdout",
          "text": [
            "<class 'pandas.core.frame.DataFrame'>\n",
            "Int64Index: 1060 entries, 0 to 1059\n",
            "Data columns (total 14 columns):\n",
            " #   Column          Non-Null Count  Dtype  \n",
            "---  ------          --------------  -----  \n",
            " 0   cast_name       1060 non-null   object \n",
            " 1   tconst          1060 non-null   object \n",
            " 2   titleType       1060 non-null   object \n",
            " 3   primaryTitle    1060 non-null   object \n",
            " 4   originalTitle   1060 non-null   object \n",
            " 5   isAdult         1060 non-null   int64  \n",
            " 6   startYear       1060 non-null   float64\n",
            " 7   endYear         110 non-null    float64\n",
            " 8   runtimeMinutes  1060 non-null   float64\n",
            " 9   genres          745 non-null    object \n",
            " 10  averageRating   1060 non-null   float64\n",
            " 11  numVotes        1060 non-null   int64  \n",
            " 12  director_name   986 non-null    object \n",
            " 13  writer_name     986 non-null    object \n",
            "dtypes: float64(4), int64(2), object(8)\n",
            "memory usage: 124.2+ KB\n",
            "None\n",
            "cast_name           0\n",
            "tconst              0\n",
            "titleType           0\n",
            "primaryTitle        0\n",
            "originalTitle       0\n",
            "isAdult             0\n",
            "startYear           0\n",
            "endYear           950\n",
            "runtimeMinutes      0\n",
            "genres              0\n",
            "averageRating       0\n",
            "numVotes            0\n",
            "director_name      74\n",
            "writer_name        74\n",
            "dtype: int64\n"
          ]
        }
      ]
    },
    {
      "cell_type": "markdown",
      "source": [
        "#Reformat table base_df"
      ],
      "metadata": {
        "id": "3UQDqOiOp_tE"
      }
    },
    {
      "cell_type": "code",
      "source": [
        "#Drop kolom tconst, isAdult, endYear, originalTitle\n",
        "base_drop2 = base_drop.drop(['tconst','isAdult','endYear','originalTitle'], axis=1)\n",
        "\n",
        "base_drop2 = base_drop2[['primaryTitle','titleType','startYear','runtimeMinutes','genres','averageRating','numVotes','cast_name','director_name','writer_name']]\n",
        "\n",
        "base_drop2.columns = ['title','type','start','duration','genres','rating','votes','cast_name','director_name','writer_name']\n",
        "print(base_drop2.head())"
      ],
      "metadata": {
        "colab": {
          "base_uri": "https://localhost:8080/"
        },
        "id": "as3uRTFyp-gM",
        "outputId": "6a30f633-3c3c-4c9e-91ad-b02ab942105b"
      },
      "execution_count": 14,
      "outputs": [
        {
          "output_type": "stream",
          "name": "stdout",
          "text": [
            "                    title   type   start  duration  \\\n",
            "0         The Love Expert  movie  1920.0      60.0   \n",
            "1               Yes or No  movie  1920.0      72.0   \n",
            "2         Our Hospitality  movie  1923.0      65.0   \n",
            "3       The King of Kings  movie  1927.0     155.0   \n",
            "4  I Cover the Waterfront  movie  1933.0      80.0   \n",
            "\n",
            "                        genres  rating  votes           cast_name  \\\n",
            "0            [Comedy, Romance]     4.9    136  [Natalie Talmadge]   \n",
            "1                    [Unknown]     6.3      7  [Natalie Talmadge]   \n",
            "2  [Comedy, Romance, Thriller]     7.8   9621  [Natalie Talmadge]   \n",
            "3  [Biography, Drama, History]     7.3   1826     [Reeka Roberts]   \n",
            "4             [Drama, Romance]     6.3    455     [James Hackett]   \n",
            "\n",
            "                       director_name  \\\n",
            "0                   [David Kirkland]   \n",
            "1                [Roy William Neill]   \n",
            "2  [Buster Keaton, John G. Blystone]   \n",
            "3                 [Cecil B. DeMille]   \n",
            "4                      [James Cruze]   \n",
            "\n",
            "                                         writer_name  \n",
            "0                         [John Emerson, Anita Loos]  \n",
            "1   [Arthur F. Goodrich, Burns Mantle, Mary Murillo]  \n",
            "2  [Jean C. Havez, Clyde Bruckman, Joseph A. Mitc...  \n",
            "3                                [Jeanie Macpherson]  \n",
            "4               [Max Miller, Wells Root, Jack Jevne]  \n"
          ]
        }
      ]
    },
    {
      "cell_type": "markdown",
      "source": [
        "#Klasifikasi Metadata"
      ],
      "metadata": {
        "id": "KvavsGsBqcZL"
      }
    },
    {
      "cell_type": "code",
      "source": [
        "#Klasifikasi berdasar title, cast_name, genres, director_name, dan writer_name\n",
        "feature_df = base_drop2[['title', 'cast_name', 'genres', 'director_name', 'writer_name']]\n",
        "\n",
        "#Tampilkan 5 baris teratas\n",
        "print(feature_df.head())"
      ],
      "metadata": {
        "colab": {
          "base_uri": "https://localhost:8080/"
        },
        "id": "n1T4Z-OEqcIG",
        "outputId": "e0563a4b-b150-48b2-d75a-4774db018c43"
      },
      "execution_count": 15,
      "outputs": [
        {
          "output_type": "stream",
          "name": "stdout",
          "text": [
            "                    title           cast_name                       genres  \\\n",
            "0         The Love Expert  [Natalie Talmadge]            [Comedy, Romance]   \n",
            "1               Yes or No  [Natalie Talmadge]                    [Unknown]   \n",
            "2         Our Hospitality  [Natalie Talmadge]  [Comedy, Romance, Thriller]   \n",
            "3       The King of Kings     [Reeka Roberts]  [Biography, Drama, History]   \n",
            "4  I Cover the Waterfront     [James Hackett]             [Drama, Romance]   \n",
            "\n",
            "                       director_name  \\\n",
            "0                   [David Kirkland]   \n",
            "1                [Roy William Neill]   \n",
            "2  [Buster Keaton, John G. Blystone]   \n",
            "3                 [Cecil B. DeMille]   \n",
            "4                      [James Cruze]   \n",
            "\n",
            "                                         writer_name  \n",
            "0                         [John Emerson, Anita Loos]  \n",
            "1   [Arthur F. Goodrich, Burns Mantle, Mary Murillo]  \n",
            "2  [Jean C. Havez, Clyde Bruckman, Joseph A. Mitc...  \n",
            "3                                [Jeanie Macpherson]  \n",
            "4               [Max Miller, Wells Root, Jack Jevne]  \n"
          ]
        }
      ]
    },
    {
      "cell_type": "markdown",
      "source": [
        "#Pertanyaan 1: Bagaimana cara membuat fungsi untuk strip spaces dari setiap row dan setiap elemennya?"
      ],
      "metadata": {
        "id": "nxzQ47SOp7Nc"
      }
    },
    {
      "cell_type": "code",
      "source": [
        "def sanitize(x):\n",
        "    try:\n",
        "        #kalau cell berisi list\n",
        "        if isinstance(x, list):\n",
        "            return [i.replace(' ','').lower() for i in x]\n",
        "        #kalau cell berisi string\n",
        "        else:\n",
        "            return [x.replace(' ','').lower()]\n",
        "    except:\n",
        "        print(x)\n",
        "        \n",
        "#Kolom : cast_name, genres, writer_name, director_name        \n",
        "feature_cols = ['cast_name','genres','writer_name','director_name']\n",
        "\n",
        "#Apply function sanitize \n",
        "for col in feature_cols:\n",
        "    feature_df[col] = feature_df[col].apply(sanitize)"
      ],
      "metadata": {
        "colab": {
          "base_uri": "https://localhost:8080/"
        },
        "id": "e3-XSM6xqaxQ",
        "outputId": "c008e2e7-7468-4c2d-caf5-5e638deb023f"
      },
      "execution_count": 19,
      "outputs": [
        {
          "output_type": "stream",
          "name": "stderr",
          "text": [
            "<ipython-input-19-4dfc5889b9dc>:17: SettingWithCopyWarning: \n",
            "A value is trying to be set on a copy of a slice from a DataFrame.\n",
            "Try using .loc[row_indexer,col_indexer] = value instead\n",
            "\n",
            "See the caveats in the documentation: https://pandas.pydata.org/pandas-docs/stable/user_guide/indexing.html#returning-a-view-versus-a-copy\n",
            "  feature_df[col] = feature_df[col].apply(sanitize)\n"
          ]
        }
      ]
    },
    {
      "cell_type": "markdown",
      "source": [
        "#Pertanyaan 2: Bagaimana cara membuat fungsi untuk membuat metadata soup (menggabungkan semua feature menjadi 1 bagian kalimat) untuk setiap judulnya?"
      ],
      "metadata": {
        "id": "Solr-JsMqovA"
      }
    },
    {
      "cell_type": "code",
      "source": [
        "#kolom yang digunakan : cast_name, genres, director_name, writer_name\n",
        "def soup_feature(x):\n",
        "    return ' '.join(x['cast_name']) + ' ' + ' '.join(x['genres']) + ' ' + ' '.join(x['director_name']) + ' ' + ' '.join(x['writer_name'])\n",
        "\n",
        "#membuat soup menjadi 1 kolom \n",
        "feature_df['soup'] = feature_df.apply(soup_feature, axis=1)"
      ],
      "metadata": {
        "colab": {
          "base_uri": "https://localhost:8080/"
        },
        "id": "VKgc_nt5qoLs",
        "outputId": "078e8e85-2ae0-453d-b1b7-cde07b5bdae8"
      },
      "execution_count": 20,
      "outputs": [
        {
          "output_type": "stream",
          "name": "stderr",
          "text": [
            "<ipython-input-20-bd187c974282>:6: SettingWithCopyWarning: \n",
            "A value is trying to be set on a copy of a slice from a DataFrame.\n",
            "Try using .loc[row_indexer,col_indexer] = value instead\n",
            "\n",
            "See the caveats in the documentation: https://pandas.pydata.org/pandas-docs/stable/user_guide/indexing.html#returning-a-view-versus-a-copy\n",
            "  feature_df['soup'] = feature_df.apply(soup_feature, axis=1)\n"
          ]
        }
      ]
    },
    {
      "cell_type": "markdown",
      "source": [
        "#Pertanyaan 3: Cara menyiapkan CountVectorizer (stop_words = english) dan fit dengan soup yang kita buat di atas"
      ],
      "metadata": {
        "id": "wbWN-6Krqn1p"
      }
    },
    {
      "cell_type": "code",
      "source": [
        "#import CountVectorizer \n",
        "from sklearn.feature_extraction.text import CountVectorizer\n",
        "\n",
        "#definisikan CountVectorizer dan mengubah soup tadi menjadi bentuk vector\n",
        "count = CountVectorizer(stop_words='english')\n",
        "count_matrix = count.fit_transform(feature_df['soup'])\n",
        "\n",
        "print(count)\n",
        "print(count_matrix.shape)"
      ],
      "metadata": {
        "colab": {
          "base_uri": "https://localhost:8080/"
        },
        "id": "ejttdU6bqnhB",
        "outputId": "46d715fc-f5ce-470c-8283-9c1342112406"
      },
      "execution_count": 21,
      "outputs": [
        {
          "output_type": "stream",
          "name": "stdout",
          "text": [
            "CountVectorizer(stop_words='english')\n",
            "(1060, 10026)\n"
          ]
        }
      ]
    },
    {
      "cell_type": "markdown",
      "source": [
        "#Pertanyaan 4: Cara membuat model similarity antara count matrix"
      ],
      "metadata": {
        "id": "yVyW_7lcqm6t"
      }
    },
    {
      "cell_type": "code",
      "source": [
        "#Import cosine_similarity\n",
        "from sklearn.metrics.pairwise import cosine_similarity\n",
        "\n",
        "#Gunakan cosine_similarity antara count_matrix \n",
        "cosine_sim = cosine_similarity(count_matrix, count_matrix)\n",
        "\n",
        "#print hasilnya\n",
        "print(cosine_sim) "
      ],
      "metadata": {
        "colab": {
          "base_uri": "https://localhost:8080/"
        },
        "id": "zfFkSzMuqz_n",
        "outputId": "2d613df8-3355-46ff-8e2c-34d832ff8c45"
      },
      "execution_count": 22,
      "outputs": [
        {
          "output_type": "stream",
          "name": "stdout",
          "text": [
            "[[1.         0.15430335 0.35355339 ... 0.         0.         0.13608276]\n",
            " [0.15430335 1.         0.10910895 ... 0.         0.         0.        ]\n",
            " [0.35355339 0.10910895 1.         ... 0.         0.08703883 0.09622504]\n",
            " ...\n",
            " [0.         0.         0.         ... 1.         0.         0.        ]\n",
            " [0.         0.         0.08703883 ... 0.         1.         0.10050378]\n",
            " [0.13608276 0.         0.09622504 ... 0.         0.10050378 1.        ]]\n"
          ]
        }
      ]
    },
    {
      "cell_type": "markdown",
      "source": [
        "#Pertanyaan 5: Cara membuat content based recommender system"
      ],
      "metadata": {
        "id": "YrxmTes1qzUn"
      }
    },
    {
      "cell_type": "code",
      "source": [
        "indices = pd.Series(feature_df.index, index=feature_df['title']).drop_duplicates()\n",
        "\n",
        "def content_recommender(title):\n",
        "    #mendapatkan index dari judul film (title) yang disebutkan\n",
        "    idx = indices[title]\n",
        "\n",
        "    #menjadikan list dari array similarity cosine sim \n",
        "    #hint: cosine_sim[idx]\n",
        "    sim_scores = list(enumerate(cosine_sim[idx]))\n",
        "\n",
        "    #mengurutkan film dari similarity tertinggi ke terendah\n",
        "    sim_scores = sorted(sim_scores, key=lambda x: x[1], reverse=True)\n",
        "\n",
        "    #untuk mendapatkan list judul dari item kedua sampe ke 11\n",
        "    sim_scores = sim_scores[1:11]\n",
        "\n",
        "    #mendapatkan index dari judul-judul yang muncul di sim_scores\n",
        "    movie_indices = [i[0] for i in sim_scores]\n",
        "\n",
        "    #dengan menggunakan iloc, kita bisa panggil balik berdasarkan index dari movie_indices\n",
        "    return base_df.iloc[movie_indices]\n",
        "\n",
        "#aplikasikan function di atas\n",
        "print(content_recommender('The Lion King'))"
      ],
      "metadata": {
        "colab": {
          "base_uri": "https://localhost:8080/"
        },
        "id": "fMRk_2s2q1DE",
        "outputId": "dfbd5100-044a-48c3-a692-916778de6832"
      },
      "execution_count": 23,
      "outputs": [
        {
          "output_type": "stream",
          "name": "stdout",
          "text": [
            "     knownForTitles                   cast_name      tconst titleType  \\\n",
            "848       tt3040964  [Cristina Carrión Márquez]   tt3040964     movie   \n",
            "383       tt0286336          [Francisco Bretas]   tt0286336  tvSeries   \n",
            "1002      tt7222086          [Hiroki Matsukawa]   tt7222086  tvSeries   \n",
            "73        tt0075147             [Joaquín Parra]   tt0075147     movie   \n",
            "232       tt0119051            [Chris Kosloski]   tt0119051     movie   \n",
            "556      tt10068158          [Hiroki Matsukawa]  tt10068158     movie   \n",
            "9         tt0028657            [Bernard Loftus]   tt0028657     movie   \n",
            "191       tt0107875               [Simon Mayal]   tt0107875     movie   \n",
            "803       tt2356464               [Sina Müller]   tt2356464     movie   \n",
            "983       tt6270328                   [Jo Boag]   tt6270328  tvSeries   \n",
            "\n",
            "                                         primaryTitle  \\\n",
            "848                                   The Jungle Book   \n",
            "383                      The Animals of Farthing Wood   \n",
            "1002                                    Made in Abyss   \n",
            "73                                   Robin and Marian   \n",
            "232                                          The Edge   \n",
            "556                     Made in Abyss: Journey's Dawn   \n",
            "9                               Boss of Lonely Valley   \n",
            "191                       The Princess and the Goblin   \n",
            "803                                           Ostwind   \n",
            "983   The Skinner Boys: Guardians of the Lost Secrets   \n",
            "\n",
            "                                        originalTitle  isAdult  startYear  \\\n",
            "848                                   The Jungle Book        0     2016.0   \n",
            "383                      The Animals of Farthing Wood        0     1993.0   \n",
            "1002                                    Made in Abyss        0     2017.0   \n",
            "73                                   Robin and Marian        0     1976.0   \n",
            "232                                          The Edge        0     1997.0   \n",
            "556                 Made in Abyss: Tabidachi no Yoake        0     2019.0   \n",
            "9                               Boss of Lonely Valley        0     1937.0   \n",
            "191                       The Princess and the Goblin        0     1991.0   \n",
            "803                                           Ostwind        0     2013.0   \n",
            "983   The Skinner Boys: Guardians of the Lost Secrets        0     2014.0   \n",
            "\n",
            "      endYear  runtimeMinutes                       genres  averageRating  \\\n",
            "848       NaN           106.0       Adventure,Drama,Family            7.4   \n",
            "383    1995.0            25.0    Adventure,Animation,Drama            8.3   \n",
            "1002      NaN           325.0    Adventure,Animation,Drama            8.4   \n",
            "73        NaN           106.0      Adventure,Drama,Romance            6.5   \n",
            "232       NaN           117.0       Action,Adventure,Drama            6.9   \n",
            "556       NaN           139.0  Adventure,Animation,Fantasy            7.4   \n",
            "9         NaN            60.0       Action,Adventure,Drama            6.2   \n",
            "191       NaN            82.0   Adventure,Animation,Comedy            6.8   \n",
            "803       NaN           101.0       Adventure,Drama,Family            6.8   \n",
            "983       NaN            23.0    Adventure,Animation,Drama            7.8   \n",
            "\n",
            "      numVotes                                      director_name  \\\n",
            "848     250994                                      [Jon Favreau]   \n",
            "383       3057             [Elphin Lloyd-Jones, Philippe Leclerc]   \n",
            "1002      4577  [Masayuki Kojima, Hitoshi Haga, Shinya Iino, T...   \n",
            "73       10830                                   [Richard Lester]   \n",
            "232      65673                                     [Lee Tamahori]   \n",
            "556         81                                  [Masayuki Kojima]   \n",
            "9           41                                       [Ray Taylor]   \n",
            "191       2350                                     [József Gémes]   \n",
            "803       1350                                [Katja von Garnier]   \n",
            "983         12        [Pablo De La Torre, Eugene Linkov, Jo Boag]   \n",
            "\n",
            "                                            writer_name  \n",
            "848                     [Justin Marks, Rudyard Kipling]  \n",
            "383   [Valerie Georgeson, Colin Dann, Jenny McDade, ...  \n",
            "1002  [Akihito Tsukushi, Keigo Koyanagi, Hideyuki Ku...  \n",
            "73                                      [James Goldman]  \n",
            "232                                       [David Mamet]  \n",
            "556                                  [Akihito Tsukushi]  \n",
            "9                       [Frances Guihan, Forrest Brown]  \n",
            "191                     [Robin Lyons, George MacDonald]  \n",
            "803          [Kristina Magdalena Henn, Lea Schmidbauer]  \n",
            "983   [David Witt, John Derevlany, David Evans, Pete...  \n"
          ]
        }
      ]
    }
  ]
}