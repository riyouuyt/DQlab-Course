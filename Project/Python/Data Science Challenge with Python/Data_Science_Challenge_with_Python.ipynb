{
  "nbformat": 4,
  "nbformat_minor": 0,
  "metadata": {
    "colab": {
      "provenance": []
    },
    "kernelspec": {
      "name": "python3",
      "display_name": "Python 3"
    },
    "language_info": {
      "name": "python"
    }
  },
  "cells": [
    {
      "cell_type": "code",
      "execution_count": 1,
      "metadata": {
        "colab": {
          "base_uri": "https://localhost:8080/"
        },
        "id": "MdHsIZADnvgj",
        "outputId": "639071ff-e919-43e8-bd88-ee778a66dd56"
      },
      "outputs": [
        {
          "output_type": "stream",
          "name": "stdout",
          "text": [
            "{1: 10, 2: 20, 3: 30, 4: 40, 5: 50, 6: 60}\n"
          ]
        }
      ],
      "source": [
        "dic1 = {1:10, 2:20}\n",
        "dic2 = {3:30, 4:40}\n",
        "dic3 = {5:50, 6:60}\n",
        "dic4 = {}\n",
        "for x in (dic1, dic2, dic3):\n",
        "    dic4.update(x)\n",
        "print(dic4)"
      ]
    },
    {
      "cell_type": "code",
      "source": [
        "# Buat fungsi penjumlahan deret Fibonacci\n",
        "def calculateSum(n):\n",
        "    if n <= 0:\n",
        "        return 0\n",
        "    fibo = [0] * (n + 1)\n",
        "    fibo[1] = 1\n",
        "    # Initialisasi hasil ke dalam variabel sm\n",
        "    sm = fibo[0] + fibo[1]\n",
        "    # Tambahkan suku-suku berikutnya\n",
        "    for i in range(2, n + 1):\n",
        "        fibo[i] = fibo[i - 1] + fibo[i - 2]\n",
        "        sm += fibo[i]\n",
        "    return sm\n",
        "# Evaluasi hasil deret untuk n = 7    \n",
        "print(calculateSum(7))"
      ],
      "metadata": {
        "colab": {
          "base_uri": "https://localhost:8080/"
        },
        "id": "c13_CYlrny7O",
        "outputId": "bc00decc-af61-4897-f6e1-62f740b770d3"
      },
      "execution_count": 3,
      "outputs": [
        {
          "output_type": "stream",
          "name": "stdout",
          "text": [
            "33\n"
          ]
        }
      ]
    },
    {
      "cell_type": "code",
      "source": [],
      "metadata": {
        "id": "iuY69jwun4Za"
      },
      "execution_count": null,
      "outputs": []
    }
  ]
}